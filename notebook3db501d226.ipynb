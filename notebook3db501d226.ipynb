import numpy as np
import pandas as pd
import kagglehub
import matplotlib.pyplot as plt

# 1) Dataset download from KaggleHub
path = kagglehub.dataset_download("mustafaali96/weight-height")
df = pd.read_csv(path + "/weight-height.csv")

# Independent (X) = Height, Dependent (Y) = Weight
x = df["Height"].values
y = df["Weight"].values

def fit_linear_deviation(x, y):
    """
    Linear regression using deviation method (statistics formula).
    m = sum( (x - mean(x)) * (y - mean(y)) ) / sum( (x - mean(x))^2 )
    c = mean(y) - m * mean(x)
    
    Roman Urdu:
    - Yeh slope (m) aur intercept (c) calculate karta hai
    - m slope batata hai: height 1 inch barhne par weight kitna barhta hai
    - c intercept batata hai: jab height zero ho (theoretical value)
    """
    x_mean = x.mean()
    y_mean = y.mean()
    
    numerator = np.sum((x - x_mean) * (y - y_mean))
    denominator = np.sum((x - x_mean) ** 2)
    m = numerator / denominator
    
    c = y_mean - m * x_mean
    return m, c

def predict(x, m, c):
    """Prediction function: y = m*x + c"""
    return m * x + c

# 2) Fit model
m, c = fit_linear_deviation(x, y)
print(f"Slope (m): {m:.4f}")
print(f"Intercept (c): {c:.4f}")

# 3) Predictions
y_pred = predict(x, m, c)

# 4) Plot scatter + regression line (professional style)
plt.figure(figsize=(10,6))
plt.scatter(x, y, alpha=0.2, color="skyblue", edgecolor="k", label="Actual Data")
plt.plot(np.sort(x), predict(np.sort(x), m, c), color="red", linewidth=2,
         label=f"Best Fit Line: y = {m:.2f}x + {c:.2f}")

plt.xlabel("Height (inches)", fontsize=12)
plt.ylabel("Weight (lbs)", fontsize=12)
plt.title("Linear Regression (Deviation Formula)\nHeight vs Weight", fontsize=14, fontweight="bold")
plt.legend(fontsize=11)
plt.grid(True, linestyle="--", alpha=0.6)

# 5) Save figure for GitHub preview
plt.savefig("linear_regression_height_weight.png", dpi=150, bbox_inches="tight")

plt.show()
