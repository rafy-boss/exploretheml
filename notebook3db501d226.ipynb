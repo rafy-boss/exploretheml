import numpy as np
import pandas as pd 
import matplotlib.pyplot as plt

# agar file local folder me hai
df = pd.read_csv("weight-height.csv")

# Height (x) aur Weight (y)
x = df["Height"].values
y = df["Weight"].values

def fit_linear_deviation(x, y):
    """
    Linear regression using deviation method (statistics formula).
    m = sum( (x - mean(x)) * (y - mean(y)) ) / sum( (x - mean(x))^2 )
    c = mean(y) - m * mean(x)
    """
    x_mean = x.mean()
    y_mean = y.mean()
    
    numerator = np.sum((x - x_mean) * (y - y_mean))
    denominator = np.sum((x - x_mean) ** 2)
    m = numerator / denominator
    
    c = y_mean - m * x_mean
    return m, c

def predict(x, m, c):
    return m * x + c

# 1) Fit model
m, c = fit_linear_deviation(x, y)

# 2) Predictions
y_pred = predict(x, m, c)

# 3) Plot scatter + regression line
plt.figure(figsize=(8,6))
plt.scatter(x, y, alpha=0.3, label="Actual Data")
plt.plot(np.sort(x), predict(np.sort(x), m, c), color="red", linewidth=2,
         label=f"Regression Line (y={m:.2f}x+{c:.2f})")
plt.xlabel("Height (inches)")
plt.ylabel("Weight (lbs)")
plt.title("Linear Regression (Deviation Formula)\nHeight vs Weight")
plt.legend()
plt.grid(True)
plt.show()
