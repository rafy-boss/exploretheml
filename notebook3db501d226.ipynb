{
 "metadata": {
  "kernelspec": {
   "language": "python",
   "display_name": "Python 3",
   "name": "python3"
  },
  "language_info": {
   "name": "python",
   "version": "3.11.13",
   "mimetype": "text/x-python",
   "codemirror_mode": {
    "name": "ipython",
    "version": 3
   },
   "pygments_lexer": "ipython3",
   "nbconvert_exporter": "python",
   "file_extension": ".py"
  },
  "kaggle": {
   "accelerator": "none",
   "dataSources": [
    {
     "sourceType": "datasetVersion",
     "sourceId": 33239,
     "datasetId": 26073,
     "databundleVersionId": 33986
    }
   ],
   "dockerImageVersionId": 31089,
   "isInternetEnabled": false,
   "language": "python",
   "sourceType": "notebook",
   "isGpuEnabled": false
  }
 },
 "nbformat_minor": 4,
 "nbformat": 4,
 "cells": [
  {
   "cell_type": "markdown",
   "metadata": {},
   "source": [
    "# Linear Regression Using Deviation Method (Roman Urdu Explanation)\n",
    "\n",
    "## Purpose\n",
    "This notebook demonstrates **linear regression** using the deviation method (statistical formula) to fit a line to the Weight-Height dataset. The code and explanations are provided in Roman Urdu for accessibility.\n",
    "\n",
    "## Dataset\n",
    "- **Source:** Kaggle, [Weight-Height Dataset](https://www.kaggle.com/datasets/mustafaali96/weight-height)\n",
    "- **Features:**\n",
    "  - `Height` (inches)\n",
    "  - `Weight` (lbs)\n",
    "  - `Gender`\n",
    "\n",
    "## Methodology\n",
    "- Linear regression is implemented using the deviation method:\n",
    "  - Formula for slope (`m`):\n",
    "    $$ m = \\frac{\\sum{(x - \\bar{x})(y - \\bar{y})}}{\\sum{(x - \\bar{x})^2}} $$\n",
    "  - Formula for intercept (`c`):\n",
    "    $$ c = \\bar{y} - m \\cdot \\bar{x} $$\n",
    "- The notebook predicts weight from height, prints model parameters, and compares predictions with actual data.\n",
    "\n",
    "## Usage\n",
    "1. Download and load the dataset using `kagglehub`.\n",
    "2. Apply linear regression using the deviation method.\n",
    "3. Make predictions for given heights.\n",
    "4. Compare predicted weights with actual values.\n",
    "\n",
    "## Notes\n",
    "- All code comments explain logic in Roman Urdu.\n",
    "- Ideal for beginners learning regression in a familiar language/context.\n"
   ]
  },
  {
   "cell_type": "code",
   "source": [
    "# Zaroori libraries import karte hain\n",
    "import numpy as np\n",
    "import pandas as pd \n",
    "import kagglehub\n",
    "\n",
    "# 1) Dataset download karte hain (Weight-Height dataset)\n",
    "path = kagglehub.dataset_download(\"mustafaali96/weight-height\")\n",
    "df = pd.read_csv(path + \"/weight-height.csv\")\n",
    "\n",
    "# Sirf Height (x) aur Weight (y) lete hain\n",
    "x = df[\"Height\"].values\n",
    "y = df[\"Weight\"].values\n",
    "\n",
    "def fit_linear_deviation(x, y):\n",
    "    \"\"\"\n",
    "    Linear regression deviation method (statistics formula).\n",
    "    Formula:\n",
    "        m = sum( (x - mean(x)) * (y - mean(y)) ) / sum( (x - mean(x))^2 )\n",
    "        c = mean(y) - m * mean(x)\n",
    "    Roman Urdu Explanation:\n",
    "    - numerator = \"sum of product of deviations\"\n",
    "    - denominator = \"sum of square of deviations of x\"\n",
    "    - m slope deta hai (line ki chadhai)\n",
    "    - c intercept deta hai (line ka shuru ka point)\n",
    "    \"\"\"\n",
    "    x = np.array(x, dtype=float)\n",
    "    y = np.array(y, dtype=float)\n",
    "    \n",
    "    x_mean = x.mean()   # x ka average\n",
    "    y_mean = y.mean()   # y ka average\n",
    "    \n",
    "    # Slope m nikalte hain\n",
    "    numerator = np.sum((x - x_mean) * (y - y_mean))   # Deviations ka product aur unka sum\n",
    "    denominator = np.sum((x - x_mean) ** 2)           # x ki deviations ka square aur unka sum\n",
    "    m = numerator / denominator\n",
    "    \n",
    "    # Intercept c nikalte hain\n",
    "    c = y_mean - m * x_mean\n",
    "    return m, c\n",
    "\n",
    "def predict(x, m, c):\n",
    "    \"\"\"\n",
    "    Prediction function: y = m*x + c\n",
    "    Roman Urdu: Height do, predicted Weight nikal lo\n",
    "    \"\"\"\n",
    "    return m * x + c\n",
    "\n",
    "# 2) Model ko dataset par fit karte hain\n",
    "m, c = fit_linear_deviation(x, y)\n",
    "print(f\"Slope (m): {m:.4f}\")\n",
    "print(f\"Intercept (c): {c:.4f}\")\n",
    "\n",
    "# 3) Example prediction\n",
    "sample_height = 70  # inches\n",
    "predicted_weight = predict(sample_height, m, c)\n",
    "print(f\"Agar Height = {sample_height} inches ho to predicted Weight ≈ {predicted_weight:.2f} lbs\")\n",
    "\n",
    "# 4) Pehle 5 actual data ke saath comparison\n",
    "y_pred = predict(x, m, c)\n",
    "df[\"PredictedWeight\"] = y_pred\n",
    "print(df.head())\n"
   ],
   "metadata": {
    "_uuid": "8f2839f25d086af736a60e9eeb907d3b93b6e0e5",
    "_cell_guid": "b1076dfc-b9ad-4769-8c92-a6c4dae69d19",
    "trusted": true,
    "execution": {
     "iopub.status.busy": "2025-08-18T13:17:39.557154Z",
     "iopub.execute_input": "2025-08-18T13:17:39.557513Z",
     "iopub.status.idle": "2025-08-18T13:17:39.837222Z",
     "shell.execute_reply.started": "2025-08-18T13:17:39.557486Z",
     "shell.execute_reply": "2025-08-18T13:17:39.836022Z"
    }
   },
   "outputs": [
    {
     "name": "stdout",
     "text": "Slope (m): 7.7173\nIntercept (c): -350.7372\nAgar Height = 70 inches ho to predicted Weight ≈ 189.47 lbs\n  Gender     Height      Weight  PredictedWeight\n0   Male  73.847017  241.893563       219.161480\n1   Male  68.781904  162.310473       180.072546\n2   Male  74.110105  212.740856       221.191809\n3   Male  71.730978  220.042470       202.831401\n4   Male  69.881796  206.349801       188.560728\n",
     "output_type": "stream"
    }
   ],
   "execution_count": 5
  }
 ]
}
