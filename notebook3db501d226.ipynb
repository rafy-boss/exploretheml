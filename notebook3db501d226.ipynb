{
 "cells": [
  {
   "cell_type": "code",
   "execution_count": null,
   "metadata": {},
   "outputs": [],
   "source": [
    "import kagglehub\n",
    "import pandas as pd\n",
    "import matplotlib.pyplot as plt\n",
    "\n",
    "path = kagglehub.dataset_download('yersever/500-person-gender-height-weight-bodymassindex')\n",
    "df = pd.read_csv(path + '/500_Person_Gender_Height_Weight_Index.csv')\n",
    "\n",
    "x = df['Height'].values\n",
    "y = df['Weight'].values\n",
    "\n",
    "n = len(x)\n",
    "x_mean = x.mean()\n",
    "y_mean = y.mean()\n",
    "slope = ((x - x_mean)*(y - y_mean)).sum() / ((x - x_mean)**2).sum()\n",
    "intercept = y_mean - slope * x_mean\n",
    "\n",
    "plt.figure(figsize=(8,6))\n",
    "plt.scatter(x, y, color='blue', label='Data')\n",
    "plt.plot(x, slope*x + intercept, color='red', label='Regression Line')\n",
    "plt.xlabel('Height (inches)')\n",
    "plt.ylabel('Weight (pounds)')\n",
    "plt.title('Linear Regression using Deviation Method')\n",
    "plt.legend()\n",
    "plt.show()"
   ]
  }
 ],
 "metadata": {
  "kernelspec": {
   "display_name": "Python 3",
   "language": "python",
   "name": "python3"
  },
  "language_info": {
   "name": "python",
   "version": "3.11"
  }
 },
 "nbformat": 4,
 "nbformat_minor": 5
}
