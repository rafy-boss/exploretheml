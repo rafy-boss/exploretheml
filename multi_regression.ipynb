{
 "cells": [
  {
   "cell_type": "code",
   "execution_count": null,
   "id": "bc01fb65",
   "metadata": {
    "vscode": {
     "languageId": "plaintext"
    }
   },
   "outputs": [],
   "source": [
    "import numpy as np\n",
    "import pandas as pd\n",
    "\n",
    "# Dummy dataset (Temp °C, Humidity %, Wind km/h)\n",
    "data = {\n",
    "    \"temp\": [30, 32, 35, 33, 31, 29, 36, 34],\n",
    "    \"humidity\": [60, 55, 50, 65, 70, 75, 45, 52],\n",
    "    \"wind\": [12, 15, 10, 14, 9, 11, 13, 16],\n",
    "    \"apparent_temp\": [32, 34, 38, 35, 33, 30, 39, 36]  # target (feel temp)\n",
    "}\n",
    "\n",
    "df = pd.DataFrame(data)\n",
    "\n",
    "# Features and target\n",
    "X = df[[\"temp\", \"humidity\", \"wind\"]].to_numpy(dtype=float)\n",
    "y = df[\"apparent_temp\"].to_numpy(dtype=float)\n",
    "\n",
    "# Add intercept\n",
    "ones = np.ones((X.shape[0], 1))\n",
    "X_b = np.hstack([ones, X])\n",
    "\n",
    "# Normal equation\n",
    "beta = np.linalg.pinv(X_b.T @ X_b) @ (X_b.T @ y)\n",
    "\n",
    "# Prediction\n",
    "y_pred = X_b @ beta\n",
    "\n",
    "print(\"Coefficients (β):\")\n",
    "print(f\"  Intercept (b0): {beta[0]:.4f}\")\n",
    "print(f\"  b1 * Temp:     {beta[1]:.4f}\")\n",
    "print(f\"  b2 * Humidity: {beta[2]:.4f}\")\n",
    "print(f\"  b3 * Wind:     {beta[3]:.4f}\\n\")\n",
    "\n",
    "print(\"Example Prediction:\")\n",
    "print(f\"  Actual Apparent Temp (first point): {y[0]:.2f} °C\")\n",
    "print(f\"  Predicted Apparent Temp:           {y_pred[0]:.2f} °C\")\n"
   ]
  },
  {
   "cell_type": "code",
   "execution_count": null,
   "id": "afb6fe0e",
   "metadata": {
    "vscode": {
     "languageId": "plaintext"
    }
   },
   "outputs": [],
   "source": [
    "import matplotlib.pyplot as plt\n",
    "\n",
    "# Suppose y is actual Rainfall, y_pred is predicted Rainfall\n",
    "plt.scatter(y, y_pred, color=\"blue\", label=\"Predictions\")\n",
    "plt.plot([y.min(), y.max()], [y.min(), y.max()], \"r--\", lw=2, label=\"Perfect Prediction\")\n",
    "\n",
    "plt.xlabel(\"Actual Rainfall\")\n",
    "plt.ylabel(\"Predicted Rainfall\")\n",
    "plt.title(\"Actual vs Predicted Rainfall (Multiple Regression)\")\n",
    "plt.legend()\n",
    "plt.show()\n"
   ]
  }
 ],
 "metadata": {
  "language_info": {
   "name": "python"
  }
 },
 "nbformat": 4,
 "nbformat_minor": 5
}
